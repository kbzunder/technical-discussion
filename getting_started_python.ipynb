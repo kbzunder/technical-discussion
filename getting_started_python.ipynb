{
  "nbformat": 4,
  "nbformat_minor": 0,
  "metadata": {
    "colab": {
      "provenance": [],
      "authorship_tag": "ABX9TyNCelwAWvzGUyYFnDmnCbdv",
      "include_colab_link": true
    },
    "kernelspec": {
      "name": "python3",
      "display_name": "Python 3"
    },
    "language_info": {
      "name": "python"
    }
  },
  "cells": [
    {
      "cell_type": "markdown",
      "metadata": {
        "id": "view-in-github",
        "colab_type": "text"
      },
      "source": [
        "<a href=\"https://colab.research.google.com/github/kbzunder/technical-discussion/blob/main/getting_started_python.ipynb\" target=\"_parent\"><img src=\"https://colab.research.google.com/assets/colab-badge.svg\" alt=\"Open In Colab\"/></a>"
      ]
    },
    {
      "cell_type": "markdown",
      "source": [
        "## Introduction to python"
      ],
      "metadata": {
        "id": "U1S6RycgYvXJ"
      }
    },
    {
      "cell_type": "markdown",
      "source": [
        "### Statements in Python"
      ],
      "metadata": {
        "id": "Sa7k04LWZBfL"
      }
    },
    {
      "cell_type": "code",
      "execution_count": null,
      "metadata": {
        "colab": {
          "base_uri": "https://localhost:8080/"
        },
        "id": "hfoywMcTXXZp",
        "outputId": "a4b3a867-36b3-4719-9c24-bd8b6f3a7ae7"
      },
      "outputs": [
        {
          "output_type": "stream",
          "name": "stdout",
          "text": [
            "hello world\n"
          ]
        }
      ],
      "source": [
        "print(\"hello world\")"
      ]
    },
    {
      "cell_type": "code",
      "source": [
        "name = 'bob'\n",
        "print(f'hello {name}')"
      ],
      "metadata": {
        "colab": {
          "base_uri": "https://localhost:8080/"
        },
        "id": "Ks3-dHewZXIV",
        "outputId": "7efbd2bd-dc73-4beb-e1e0-e385e09e10df"
      },
      "execution_count": null,
      "outputs": [
        {
          "output_type": "stream",
          "name": "stdout",
          "text": [
            "hello bob\n"
          ]
        }
      ]
    },
    {
      "cell_type": "markdown",
      "source": [
        "### Datastructures: Lists and Dictionaries"
      ],
      "metadata": {
        "id": "cqicjR6rZj4f"
      }
    },
    {
      "cell_type": "code",
      "source": [
        "fruit = ['apple','pear','strawberry']\n",
        "type(fruit)"
      ],
      "metadata": {
        "colab": {
          "base_uri": "https://localhost:8080/"
        },
        "id": "nLhHCu8IZpYa",
        "outputId": "5d91dd22-ed72-4b4f-9575-bf0b0b6a0e25"
      },
      "execution_count": null,
      "outputs": [
        {
          "output_type": "execute_result",
          "data": {
            "text/plain": [
              "list"
            ]
          },
          "metadata": {},
          "execution_count": 4
        }
      ]
    },
    {
      "cell_type": "code",
      "source": [],
      "metadata": {
        "id": "d7BD4wbW9pbN"
      },
      "execution_count": null,
      "outputs": []
    },
    {
      "cell_type": "markdown",
      "source": [
        "### Ingest"
      ],
      "metadata": {
        "id": "WcAPUXzS9qUu"
      }
    },
    {
      "cell_type": "code",
      "source": [
        "def hello(x,y):\n",
        "  return x + y"
      ],
      "metadata": {
        "id": "-HvJTP8R93F_"
      },
      "execution_count": null,
      "outputs": []
    }
  ]
}